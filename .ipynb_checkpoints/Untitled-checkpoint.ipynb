{
 "cells": [
  {
   "cell_type": "code",
   "execution_count": 6,
   "id": "f86a91b4",
   "metadata": {},
   "outputs": [],
   "source": [
    "import numpy as np\n",
    "import pandas as pd\n",
    "import random\n",
    "import matplotlib.pyplot as plt"
   ]
  },
  {
   "cell_type": "code",
   "execution_count": 5,
   "id": "06b434af",
   "metadata": {},
   "outputs": [
    {
     "data": {
      "text/html": [
       "<div>\n",
       "<style scoped>\n",
       "    .dataframe tbody tr th:only-of-type {\n",
       "        vertical-align: middle;\n",
       "    }\n",
       "\n",
       "    .dataframe tbody tr th {\n",
       "        vertical-align: top;\n",
       "    }\n",
       "\n",
       "    .dataframe thead th {\n",
       "        text-align: right;\n",
       "    }\n",
       "</style>\n",
       "<table border=\"1\" class=\"dataframe\">\n",
       "  <thead>\n",
       "    <tr style=\"text-align: right;\">\n",
       "      <th></th>\n",
       "      <th>Date</th>\n",
       "      <th>Category</th>\n",
       "      <th>Likes</th>\n",
       "    </tr>\n",
       "  </thead>\n",
       "  <tbody>\n",
       "    <tr>\n",
       "      <th>0</th>\n",
       "      <td>2021-01-01</td>\n",
       "      <td>Fashion</td>\n",
       "      <td>9367</td>\n",
       "    </tr>\n",
       "    <tr>\n",
       "      <th>1</th>\n",
       "      <td>2021-01-02</td>\n",
       "      <td>Food</td>\n",
       "      <td>1207</td>\n",
       "    </tr>\n",
       "    <tr>\n",
       "      <th>2</th>\n",
       "      <td>2021-01-03</td>\n",
       "      <td>Food</td>\n",
       "      <td>1995</td>\n",
       "    </tr>\n",
       "    <tr>\n",
       "      <th>3</th>\n",
       "      <td>2021-01-04</td>\n",
       "      <td>Culture</td>\n",
       "      <td>1623</td>\n",
       "    </tr>\n",
       "    <tr>\n",
       "      <th>4</th>\n",
       "      <td>2021-01-05</td>\n",
       "      <td>Music</td>\n",
       "      <td>4679</td>\n",
       "    </tr>\n",
       "    <tr>\n",
       "      <th>5</th>\n",
       "      <td>2021-01-06</td>\n",
       "      <td>Culture</td>\n",
       "      <td>4860</td>\n",
       "    </tr>\n",
       "    <tr>\n",
       "      <th>6</th>\n",
       "      <td>2021-01-07</td>\n",
       "      <td>Health</td>\n",
       "      <td>562</td>\n",
       "    </tr>\n",
       "    <tr>\n",
       "      <th>7</th>\n",
       "      <td>2021-01-08</td>\n",
       "      <td>Music</td>\n",
       "      <td>3072</td>\n",
       "    </tr>\n",
       "    <tr>\n",
       "      <th>8</th>\n",
       "      <td>2021-01-09</td>\n",
       "      <td>Family</td>\n",
       "      <td>8658</td>\n",
       "    </tr>\n",
       "    <tr>\n",
       "      <th>9</th>\n",
       "      <td>2021-01-10</td>\n",
       "      <td>Health</td>\n",
       "      <td>2411</td>\n",
       "    </tr>\n",
       "  </tbody>\n",
       "</table>\n",
       "</div>"
      ],
      "text/plain": [
       "        Date Category  Likes\n",
       "0 2021-01-01  Fashion   9367\n",
       "1 2021-01-02     Food   1207\n",
       "2 2021-01-03     Food   1995\n",
       "3 2021-01-04  Culture   1623\n",
       "4 2021-01-05    Music   4679\n",
       "5 2021-01-06  Culture   4860\n",
       "6 2021-01-07   Health    562\n",
       "7 2021-01-08    Music   3072\n",
       "8 2021-01-09   Family   8658\n",
       "9 2021-01-10   Health   2411"
      ]
     },
     "execution_count": 5,
     "metadata": {},
     "output_type": "execute_result"
    }
   ],
   "source": [
    "categories = ['Food', 'Travel', 'Fashion', 'Fitness', 'Music', 'Culture', 'Family', 'Health']\n",
    "\n",
    "# Number of data entries\n",
    "data_size = 500\n",
    "\n",
    "# Generate the data dictionary\n",
    "data = {\n",
    "    'Date': pd.date_range('2021-01-01', periods=data_size),\n",
    "    'Category': [random.choice(categories) for _ in range(data_size)],\n",
    "    'Likes': np.random.randint(0, 10000, size=data_size)\n",
    "}\n",
    "\n",
    "df = pd.DataFrame(data)\n",
    "\n",
    "df.head(10)"
   ]
  },
  {
   "cell_type": "markdown",
   "id": "301551e7",
   "metadata": {},
   "source": [
    "### Print the count of each category"
   ]
  },
  {
   "cell_type": "code",
   "execution_count": 14,
   "id": "525e3c9a",
   "metadata": {},
   "outputs": [
    {
     "data": {
      "text/plain": [
       "Fashion    69\n",
       "Health     65\n",
       "Fitness    65\n",
       "Culture    64\n",
       "Music      64\n",
       "Travel     59\n",
       "Family     58\n",
       "Food       56\n",
       "Name: Category, dtype: int64"
      ]
     },
     "execution_count": 14,
     "metadata": {},
     "output_type": "execute_result"
    }
   ],
   "source": [
    "df[\"Category\"].value_counts()"
   ]
  },
  {
   "cell_type": "markdown",
   "id": "26961358",
   "metadata": {},
   "source": [
    "### Identify duplicated data"
   ]
  },
  {
   "cell_type": "code",
   "execution_count": 17,
   "id": "9c28b344",
   "metadata": {},
   "outputs": [
    {
     "data": {
      "text/plain": [
       "0"
      ]
     },
     "execution_count": 17,
     "metadata": {},
     "output_type": "execute_result"
    }
   ],
   "source": [
    "duplicates = df[df.duplicated()]\n",
    "len(duplicates)"
   ]
  },
  {
   "cell_type": "code",
   "execution_count": 22,
   "id": "9ecca5e7",
   "metadata": {},
   "outputs": [],
   "source": [
    "df[\"Month\"] = df[\"Date\"].dt.month\n",
    "df[\"Day_week\"] = df[\"Date\"].dt.day_name()\n",
    "df[\"Year\"] = df[\"Date\"].dt.year"
   ]
  },
  {
   "cell_type": "code",
   "execution_count": 23,
   "id": "ff7ca119",
   "metadata": {},
   "outputs": [
    {
     "data": {
      "text/html": [
       "<div>\n",
       "<style scoped>\n",
       "    .dataframe tbody tr th:only-of-type {\n",
       "        vertical-align: middle;\n",
       "    }\n",
       "\n",
       "    .dataframe tbody tr th {\n",
       "        vertical-align: top;\n",
       "    }\n",
       "\n",
       "    .dataframe thead th {\n",
       "        text-align: right;\n",
       "    }\n",
       "</style>\n",
       "<table border=\"1\" class=\"dataframe\">\n",
       "  <thead>\n",
       "    <tr style=\"text-align: right;\">\n",
       "      <th></th>\n",
       "      <th>Date</th>\n",
       "      <th>Category</th>\n",
       "      <th>Likes</th>\n",
       "      <th>Month</th>\n",
       "      <th>Day_week</th>\n",
       "      <th>Year</th>\n",
       "    </tr>\n",
       "  </thead>\n",
       "  <tbody>\n",
       "    <tr>\n",
       "      <th>0</th>\n",
       "      <td>2021-01-01</td>\n",
       "      <td>Fashion</td>\n",
       "      <td>9367</td>\n",
       "      <td>1</td>\n",
       "      <td>Friday</td>\n",
       "      <td>2021</td>\n",
       "    </tr>\n",
       "    <tr>\n",
       "      <th>1</th>\n",
       "      <td>2021-01-02</td>\n",
       "      <td>Food</td>\n",
       "      <td>1207</td>\n",
       "      <td>1</td>\n",
       "      <td>Saturday</td>\n",
       "      <td>2021</td>\n",
       "    </tr>\n",
       "    <tr>\n",
       "      <th>2</th>\n",
       "      <td>2021-01-03</td>\n",
       "      <td>Food</td>\n",
       "      <td>1995</td>\n",
       "      <td>1</td>\n",
       "      <td>Sunday</td>\n",
       "      <td>2021</td>\n",
       "    </tr>\n",
       "    <tr>\n",
       "      <th>3</th>\n",
       "      <td>2021-01-04</td>\n",
       "      <td>Culture</td>\n",
       "      <td>1623</td>\n",
       "      <td>1</td>\n",
       "      <td>Monday</td>\n",
       "      <td>2021</td>\n",
       "    </tr>\n",
       "    <tr>\n",
       "      <th>4</th>\n",
       "      <td>2021-01-05</td>\n",
       "      <td>Music</td>\n",
       "      <td>4679</td>\n",
       "      <td>1</td>\n",
       "      <td>Tuesday</td>\n",
       "      <td>2021</td>\n",
       "    </tr>\n",
       "    <tr>\n",
       "      <th>...</th>\n",
       "      <td>...</td>\n",
       "      <td>...</td>\n",
       "      <td>...</td>\n",
       "      <td>...</td>\n",
       "      <td>...</td>\n",
       "      <td>...</td>\n",
       "    </tr>\n",
       "    <tr>\n",
       "      <th>495</th>\n",
       "      <td>2022-05-11</td>\n",
       "      <td>Travel</td>\n",
       "      <td>4440</td>\n",
       "      <td>5</td>\n",
       "      <td>Wednesday</td>\n",
       "      <td>2022</td>\n",
       "    </tr>\n",
       "    <tr>\n",
       "      <th>496</th>\n",
       "      <td>2022-05-12</td>\n",
       "      <td>Music</td>\n",
       "      <td>147</td>\n",
       "      <td>5</td>\n",
       "      <td>Thursday</td>\n",
       "      <td>2022</td>\n",
       "    </tr>\n",
       "    <tr>\n",
       "      <th>497</th>\n",
       "      <td>2022-05-13</td>\n",
       "      <td>Fitness</td>\n",
       "      <td>2423</td>\n",
       "      <td>5</td>\n",
       "      <td>Friday</td>\n",
       "      <td>2022</td>\n",
       "    </tr>\n",
       "    <tr>\n",
       "      <th>498</th>\n",
       "      <td>2022-05-14</td>\n",
       "      <td>Culture</td>\n",
       "      <td>9293</td>\n",
       "      <td>5</td>\n",
       "      <td>Saturday</td>\n",
       "      <td>2022</td>\n",
       "    </tr>\n",
       "    <tr>\n",
       "      <th>499</th>\n",
       "      <td>2022-05-15</td>\n",
       "      <td>Food</td>\n",
       "      <td>8156</td>\n",
       "      <td>5</td>\n",
       "      <td>Sunday</td>\n",
       "      <td>2022</td>\n",
       "    </tr>\n",
       "  </tbody>\n",
       "</table>\n",
       "<p>500 rows × 6 columns</p>\n",
       "</div>"
      ],
      "text/plain": [
       "          Date Category  Likes  Month   Day_week  Year\n",
       "0   2021-01-01  Fashion   9367      1     Friday  2021\n",
       "1   2021-01-02     Food   1207      1   Saturday  2021\n",
       "2   2021-01-03     Food   1995      1     Sunday  2021\n",
       "3   2021-01-04  Culture   1623      1     Monday  2021\n",
       "4   2021-01-05    Music   4679      1    Tuesday  2021\n",
       "..         ...      ...    ...    ...        ...   ...\n",
       "495 2022-05-11   Travel   4440      5  Wednesday  2022\n",
       "496 2022-05-12    Music    147      5   Thursday  2022\n",
       "497 2022-05-13  Fitness   2423      5     Friday  2022\n",
       "498 2022-05-14  Culture   9293      5   Saturday  2022\n",
       "499 2022-05-15     Food   8156      5     Sunday  2022\n",
       "\n",
       "[500 rows x 6 columns]"
      ]
     },
     "execution_count": 23,
     "metadata": {},
     "output_type": "execute_result"
    }
   ],
   "source": [
    "df"
   ]
  },
  {
   "cell_type": "code",
   "execution_count": 26,
   "id": "adb9fdd7",
   "metadata": {},
   "outputs": [
    {
     "data": {
      "text/plain": [
       "Date        datetime64[ns]\n",
       "Category            object\n",
       "Likes                int64\n",
       "Month                int64\n",
       "Day_week            object\n",
       "Year                 int64\n",
       "dtype: object"
      ]
     },
     "execution_count": 26,
     "metadata": {},
     "output_type": "execute_result"
    }
   ],
   "source": [
    "df.dtypes"
   ]
  },
  {
   "cell_type": "markdown",
   "id": "4f823ae2",
   "metadata": {},
   "source": [
    "# Visualisations"
   ]
  },
  {
   "cell_type": "code",
   "execution_count": 30,
   "id": "825b9b15",
   "metadata": {},
   "outputs": [
    {
     "data": {
      "text/plain": [
       "<matplotlib.collections.PathCollection at 0x13de74c90>"
      ]
     },
     "execution_count": 30,
     "metadata": {},
     "output_type": "execute_result"
    },
    {
     "data": {
      "image/png": "[encoded data removed]",
      "text/plain": [
       "<Figure size 1000x500 with 1 Axes>"
      ]
     },
     "metadata": {},
     "output_type": "display_data"
    }
   ],
   "source": [
    "plt.figure(figsize = (10,5))\n",
    "\n",
    "plt.scatter(df[\"Category\"], df[\"Likes\"])"
   ]
  },
  {
   "cell_type": "code",
   "execution_count": null,
   "id": "fac3986f",
   "metadata": {},
   "outputs": [],
   "source": []
  }
 ],
 "metadata": {
  "kernelspec": {
   "display_name": "Python 3 (ipykernel)",
   "language": "python",
   "name": "python3"
  },
  "language_info": {
   "codemirror_mode": {
    "name": "ipython",
    "version": 3
   },
   "file_extension": ".py",
   "mimetype": "text/x-python",
   "name": "python",
   "nbconvert_exporter": "python",
   "pygments_lexer": "ipython3",
   "version": "3.11.4"
  }
 },
 "nbformat": 4,
 "nbformat_minor": 5
}
